{
 "cells": [
  {
   "cell_type": "code",
   "execution_count": 4,
   "metadata": {},
   "outputs": [
    {
     "name": "stdout",
     "output_type": "stream",
     "text": [
      "main module loaded\n",
      "sys.path before: ['C:\\\\Program Files\\\\WindowsApps\\\\PythonSoftwareFoundation.Python.3.12_3.12.2288.0_x64__qbz5n2kfra8p0\\\\python312.zip', 'C:\\\\Program Files\\\\WindowsApps\\\\PythonSoftwareFoundation.Python.3.12_3.12.2288.0_x64__qbz5n2kfra8p0\\\\DLLs', 'C:\\\\Program Files\\\\WindowsApps\\\\PythonSoftwareFoundation.Python.3.12_3.12.2288.0_x64__qbz5n2kfra8p0\\\\Lib', 'C:\\\\Program Files\\\\WindowsApps\\\\PythonSoftwareFoundation.Python.3.12_3.12.2288.0_x64__qbz5n2kfra8p0', 'c:\\\\Code\\\\Machine Learning - Workspace\\\\Avalon\\\\Final-Project-Avalon\\\\.venv', '', 'c:\\\\Code\\\\Machine Learning - Workspace\\\\Avalon\\\\Final-Project-Avalon\\\\.venv\\\\Lib\\\\site-packages', 'c:\\\\Code\\\\Machine Learning - Workspace\\\\Avalon\\\\Final-Project-Avalon\\\\.venv\\\\Lib\\\\site-packages\\\\win32', 'c:\\\\Code\\\\Machine Learning - Workspace\\\\Avalon\\\\Final-Project-Avalon\\\\.venv\\\\Lib\\\\site-packages\\\\win32\\\\lib', 'c:\\\\Code\\\\Machine Learning - Workspace\\\\Avalon\\\\Final-Project-Avalon\\\\.venv\\\\Lib\\\\site-packages\\\\Pythonwin', 'c:\\\\Code\\\\Machine Learning - Workspace\\\\Avalon\\\\Final-Project-Avalon\\\\src']\n",
      "sys.path after: ['C:\\\\Program Files\\\\WindowsApps\\\\PythonSoftwareFoundation.Python.3.12_3.12.2288.0_x64__qbz5n2kfra8p0\\\\python312.zip', 'C:\\\\Program Files\\\\WindowsApps\\\\PythonSoftwareFoundation.Python.3.12_3.12.2288.0_x64__qbz5n2kfra8p0\\\\DLLs', 'C:\\\\Program Files\\\\WindowsApps\\\\PythonSoftwareFoundation.Python.3.12_3.12.2288.0_x64__qbz5n2kfra8p0\\\\Lib', 'C:\\\\Program Files\\\\WindowsApps\\\\PythonSoftwareFoundation.Python.3.12_3.12.2288.0_x64__qbz5n2kfra8p0', 'c:\\\\Code\\\\Machine Learning - Workspace\\\\Avalon\\\\Final-Project-Avalon\\\\.venv', '', 'c:\\\\Code\\\\Machine Learning - Workspace\\\\Avalon\\\\Final-Project-Avalon\\\\.venv\\\\Lib\\\\site-packages', 'c:\\\\Code\\\\Machine Learning - Workspace\\\\Avalon\\\\Final-Project-Avalon\\\\.venv\\\\Lib\\\\site-packages\\\\win32', 'c:\\\\Code\\\\Machine Learning - Workspace\\\\Avalon\\\\Final-Project-Avalon\\\\.venv\\\\Lib\\\\site-packages\\\\win32\\\\lib', 'c:\\\\Code\\\\Machine Learning - Workspace\\\\Avalon\\\\Final-Project-Avalon\\\\.venv\\\\Lib\\\\site-packages\\\\Pythonwin', 'c:\\\\Code\\\\Machine Learning - Workspace\\\\Avalon\\\\Final-Project-Avalon\\\\src']\n"
     ]
    },
    {
     "ename": "ImportError",
     "evalue": "cannot import name 'create_vector_store' from 'src.vector_store' (c:\\Code\\Machine Learning - Workspace\\Avalon\\Final-Project-Avalon\\src\\vector_store.py)",
     "output_type": "error",
     "traceback": [
      "\u001b[1;31m---------------------------------------------------------------------------\u001b[0m",
      "\u001b[1;31mImportError\u001b[0m                               Traceback (most recent call last)",
      "Cell \u001b[1;32mIn[4], line 20\u001b[0m\n\u001b[0;32m     18\u001b[0m \u001b[38;5;28;01mfrom\u001b[39;00m\u001b[38;5;250m \u001b[39m\u001b[38;5;21;01msrc\u001b[39;00m\u001b[38;5;21;01m.\u001b[39;00m\u001b[38;5;21;01mtext_splitter\u001b[39;00m\u001b[38;5;250m \u001b[39m\u001b[38;5;28;01mimport\u001b[39;00m split_text\n\u001b[0;32m     19\u001b[0m \u001b[38;5;28;01mfrom\u001b[39;00m\u001b[38;5;250m \u001b[39m\u001b[38;5;21;01msrc\u001b[39;00m\u001b[38;5;21;01m.\u001b[39;00m\u001b[38;5;21;01membeddings\u001b[39;00m\u001b[38;5;250m \u001b[39m\u001b[38;5;28;01mimport\u001b[39;00m get_embeddings\n\u001b[1;32m---> 20\u001b[0m \u001b[38;5;28;01mfrom\u001b[39;00m\u001b[38;5;250m \u001b[39m\u001b[38;5;21;01msrc\u001b[39;00m\u001b[38;5;21;01m.\u001b[39;00m\u001b[38;5;21;01mvector_store\u001b[39;00m\u001b[38;5;250m \u001b[39m\u001b[38;5;28;01mimport\u001b[39;00m create_vector_store\n\u001b[0;32m     21\u001b[0m \u001b[38;5;28;01mfrom\u001b[39;00m\u001b[38;5;250m \u001b[39m\u001b[38;5;21;01msrc\u001b[39;00m\u001b[38;5;21;01m.\u001b[39;00m\u001b[38;5;21;01mretriever\u001b[39;00m\u001b[38;5;250m \u001b[39m\u001b[38;5;28;01mimport\u001b[39;00m get_retriever\n\u001b[0;32m     22\u001b[0m \u001b[38;5;28;01mfrom\u001b[39;00m\u001b[38;5;250m \u001b[39m\u001b[38;5;21;01msrc\u001b[39;00m\u001b[38;5;21;01m.\u001b[39;00m\u001b[38;5;21;01mpipeline\u001b[39;00m\u001b[38;5;250m \u001b[39m\u001b[38;5;28;01mimport\u001b[39;00m generate_answer\n",
      "\u001b[1;31mImportError\u001b[0m: cannot import name 'create_vector_store' from 'src.vector_store' (c:\\Code\\Machine Learning - Workspace\\Avalon\\Final-Project-Avalon\\src\\vector_store.py)"
     ]
    }
   ],
   "source": [
    "import sys\n",
    "import os\n",
    "\n",
    "print(\"main module loaded\")\n",
    "print(\"sys.path before:\", sys.path)\n",
    "\n",
    "# Determine the script directory\n",
    "script_dir = os.path.dirname(os.path.abspath(__file__)) if '__file__' in globals() else os.getcwd()\n",
    "\n",
    "# Add src directory to sys.path\n",
    "src_path = os.path.join(script_dir, 'src')\n",
    "if src_path not in sys.path:\n",
    "    sys.path.append(src_path)\n",
    "\n",
    "print(\"sys.path after:\", sys.path)\n",
    "\n",
    "from src.data_loader import load_data\n",
    "from src.text_splitter import split_text\n",
    "from src.embeddings import get_embeddings\n",
    "from src.vector_store import create_vector_store\n",
    "from src.retriever import get_retriever\n",
    "from src.pipeline import generate_answer\n",
    "from src.hybrid_search import hybrid_search\n",
    "\n",
    "print(\"All imports successful\")\n",
    "\n",
    "dataset_name = \"databricks/databricks-dolly-15k\"\n",
    "page_content_column = \"context\"\n",
    "\n",
    "data = load_data(dataset_name, page_content_column)\n",
    "docs = split_text(data)\n",
    "embeddings = get_embeddings()\n",
    "db = create_vector_store(docs, embeddings)\n",
    "retriever = get_retriever(db)\n",
    "\n",
    "question = \"Where is Indonesia Located?\"\n",
    "hybrid_results = hybrid_search(retriever, db, question)\n",
    "answer = generate_answer(hybrid_results, question)\n",
    "print('Answer: ', answer)"
   ]
  }
 ],
 "metadata": {
  "kernelspec": {
   "display_name": ".venv",
   "language": "python",
   "name": "python3"
  },
  "language_info": {
   "codemirror_mode": {
    "name": "ipython",
    "version": 3
   },
   "file_extension": ".py",
   "mimetype": "text/x-python",
   "name": "python",
   "nbconvert_exporter": "python",
   "pygments_lexer": "ipython3",
   "version": "3.12.8"
  }
 },
 "nbformat": 4,
 "nbformat_minor": 2
}
