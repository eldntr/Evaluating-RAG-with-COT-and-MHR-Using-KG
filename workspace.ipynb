{
 "cells": [
  {
   "cell_type": "markdown",
   "metadata": {},
   "source": [
    "# Retrieval"
   ]
  },
  {
   "cell_type": "code",
   "execution_count": 1,
   "metadata": {},
   "outputs": [
    {
     "name": "stderr",
     "output_type": "stream",
     "text": [
      "c:\\Code\\Machine Learning - Workspace\\Avalon\\Final-Project-Avalon\\env\\Lib\\site-packages\\beir\\util.py:2: TqdmWarning: IProgress not found. Please update jupyter and ipywidgets. See https://ipywidgets.readthedocs.io/en/stable/user_install.html\n",
      "  from tqdm.autonotebook import tqdm\n"
     ]
    },
    {
     "name": "stdout",
     "output_type": "stream",
     "text": [
      "2025-01-14 18:00:57 - Loading Corpus...\n"
     ]
    },
    {
     "name": "stderr",
     "output_type": "stream",
     "text": [
      "100%|██████████| 5183/5183 [00:00<00:00, 65063.29it/s]"
     ]
    },
    {
     "name": "stdout",
     "output_type": "stream",
     "text": [
      "2025-01-14 18:00:57 - Loaded 5183 TEST Documents.\n",
      "2025-01-14 18:00:57 - Doc Example: {'text': 'Alterations of the architecture of cerebral white matter in the developing human brain can affect cortical development and result in functional disabilities. A line scan diffusion-weighted magnetic resonance imaging (MRI) sequence with diffusion tensor analysis was applied to measure the apparent diffusion coefficient, to calculate relative anisotropy, and to delineate three-dimensional fiber architecture in cerebral white matter in preterm (n = 17) and full-term infants (n = 7). To assess effects of prematurity on cerebral white matter development, early gestation preterm infants (n = 10) were studied a second time at term. In the central white matter the mean apparent diffusion coefficient at 28 wk was high, 1.8 microm2/ms, and decreased toward term to 1.2 microm2/ms. In the posterior limb of the internal capsule, the mean apparent diffusion coefficients at both times were similar (1.2 versus 1.1 microm2/ms). Relative anisotropy was higher the closer birth was to term with greater absolute values in the internal capsule than in the central white matter. Preterm infants at term showed higher mean diffusion coefficients in the central white matter (1.4 +/- 0.24 versus 1.15 +/- 0.09 microm2/ms, p = 0.016) and lower relative anisotropy in both areas compared with full-term infants (white matter, 10.9 +/- 0.6 versus 22.9 +/- 3.0%, p = 0.001; internal capsule, 24.0 +/- 4.44 versus 33.1 +/- 0.6% p = 0.006). Nonmyelinated fibers in the corpus callosum were visible by diffusion tensor MRI as early as 28 wk; full-term and preterm infants at term showed marked differences in white matter fiber organization. The data indicate that quantitative assessment of water diffusion by diffusion tensor MRI provides insight into microstructural development in cerebral white matter in living infants.', 'title': 'Microstructural development of human newborn cerebral white matter assessed in vivo by diffusion tensor magnetic resonance imaging.'}\n",
      "2025-01-14 18:00:57 - Loading Queries...\n",
      "2025-01-14 18:00:57 - Loaded 300 TEST Queries.\n",
      "2025-01-14 18:00:57 - Query Example: 0-dimensional biomaterials show inductive properties.\n",
      "2025-01-14 18:00:57 - Use pytorch device_name: cuda\n",
      "2025-01-14 18:00:57 - Load pretrained SentenceTransformer: msmarco-distilbert-base-tas-b\n"
     ]
    },
    {
     "name": "stderr",
     "output_type": "stream",
     "text": [
      "\n"
     ]
    },
    {
     "name": "stdout",
     "output_type": "stream",
     "text": [
      "2025-01-14 18:01:01 - Encoding Queries...\n"
     ]
    },
    {
     "name": "stderr",
     "output_type": "stream",
     "text": [
      "Batches: 100%|██████████| 19/19 [00:00<00:00, 23.95it/s]\n"
     ]
    },
    {
     "name": "stdout",
     "output_type": "stream",
     "text": [
      "2025-01-14 18:01:02 - Sorting Corpus by document length (Longest first)...\n",
      "2025-01-14 18:01:02 - Encoding Corpus in batches... Warning: This might take a while!\n",
      "2025-01-14 18:01:02 - Scoring Function: Dot Product (dot)\n",
      "2025-01-14 18:01:02 - Encoding Batch 1/1...\n"
     ]
    },
    {
     "name": "stderr",
     "output_type": "stream",
     "text": [
      "Batches: 100%|██████████| 324/324 [01:19<00:00,  4.06it/s]\n"
     ]
    },
    {
     "name": "stdout",
     "output_type": "stream",
     "text": [
      "2025-01-14 18:02:23 - For evaluation, we ignore identical query and document ids (default), please explicitly set ``ignore_identical_ids=False`` to ignore this.\n",
      "2025-01-14 18:02:23 - \n",
      "\n",
      "2025-01-14 18:02:23 - NDCG@1: 0.5333\n",
      "2025-01-14 18:02:23 - NDCG@3: 0.5990\n",
      "2025-01-14 18:02:23 - NDCG@5: 0.6215\n",
      "2025-01-14 18:02:23 - NDCG@10: 0.6428\n",
      "2025-01-14 18:02:23 - NDCG@100: 0.6698\n",
      "2025-01-14 18:02:23 - NDCG@1000: 0.6811\n",
      "2025-01-14 18:02:23 - \n",
      "\n",
      "2025-01-14 18:02:23 - MAP@1: 0.5086\n",
      "2025-01-14 18:02:23 - MAP@3: 0.5730\n",
      "2025-01-14 18:02:23 - MAP@5: 0.5892\n",
      "2025-01-14 18:02:23 - MAP@10: 0.5992\n",
      "2025-01-14 18:02:23 - MAP@100: 0.6046\n",
      "2025-01-14 18:02:23 - MAP@1000: 0.6049\n",
      "2025-01-14 18:02:23 - \n",
      "\n",
      "2025-01-14 18:02:23 - Recall@1: 0.5086\n",
      "2025-01-14 18:02:23 - Recall@3: 0.6473\n",
      "2025-01-14 18:02:23 - Recall@5: 0.6998\n",
      "2025-01-14 18:02:23 - Recall@10: 0.7615\n",
      "2025-01-14 18:02:23 - Recall@100: 0.8910\n",
      "2025-01-14 18:02:23 - Recall@1000: 0.9833\n",
      "2025-01-14 18:02:23 - \n",
      "\n",
      "2025-01-14 18:02:23 - P@1: 0.5333\n",
      "2025-01-14 18:02:23 - P@3: 0.2322\n",
      "2025-01-14 18:02:23 - P@5: 0.1560\n",
      "2025-01-14 18:02:23 - P@10: 0.0863\n",
      "2025-01-14 18:02:23 - P@100: 0.0101\n",
      "2025-01-14 18:02:23 - P@1000: 0.0011\n"
     ]
    }
   ],
   "source": [
    "from beir import util, LoggingHandler\n",
    "from beir.retrieval import models\n",
    "from beir.datasets.data_loader import GenericDataLoader\n",
    "from beir.retrieval.evaluation import EvaluateRetrieval\n",
    "from beir.retrieval.search.dense import DenseRetrievalExactSearch as DRES\n",
    "\n",
    "import logging\n",
    "import pathlib, os\n",
    "\n",
    "#### Just some code to print debug information to stdout\n",
    "logging.basicConfig(format='%(asctime)s - %(message)s',\n",
    "                    datefmt='%Y-%m-%d %H:%M:%S',\n",
    "                    level=logging.INFO,\n",
    "                    handlers=[LoggingHandler()])\n",
    "#### /print debug information to stdout\n",
    "\n",
    "#### Download scifact.zip dataset and unzip the dataset\n",
    "dataset = \"scifact\"\n",
    "url = \"https://public.ukp.informatik.tu-darmstadt.de/thakur/BEIR/datasets/{}.zip\".format(dataset)\n",
    "out_dir = os.path.join(pathlib.Path().absolute(), \"datasets\")\n",
    "data_path = util.download_and_unzip(url, out_dir)\n",
    "\n",
    "#### Provide the data_path where scifact has been downloaded and unzipped\n",
    "corpus, queries, qrels = GenericDataLoader(data_folder=data_path).load(split=\"test\")\n",
    "\n",
    "#### Load the SBERT model and retrieve using cosine-similarity\n",
    "model = DRES(models.SentenceBERT(\"msmarco-distilbert-base-tas-b\"), batch_size=16)\n",
    "retriever = EvaluateRetrieval(model, score_function=\"dot\") # or \"cos_sim\" for cosine similarity\n",
    "results = retriever.retrieve(corpus, queries)\n",
    "\n",
    "#### Evaluate your model with NDCG@k, MAP@K, Recall@K and Precision@K  where k = [1,3,5,10,100,1000] \n",
    "ndcg, _map, recall, precision = retriever.evaluate(qrels, results, retriever.k_values)"
   ]
  },
  {
   "cell_type": "code",
   "execution_count": 2,
   "metadata": {},
   "outputs": [
    {
     "name": "stdout",
     "output_type": "stream",
     "text": [
      "Sample queries from the dataset:\n",
      "1. 0-dimensional biomaterials show inductive properties.\n",
      "2. 1,000 genomes project enables mapping of genetic sequence variation consisting of rare variants with larger penetrance effects than common variants.\n",
      "3. 1/2000 in UK have abnormal PrP positivity.\n",
      "4. 5% of perinatal mortality is due to low birth weight.\n",
      "5. A deficiency of vitamin B12 increases blood levels of homocysteine.\n",
      "\n",
      "Query: \"0-dimensional biomaterials show inductive properties.\"\n",
      "Top-3 Retrieved Documents:\n",
      "1. Document ID: 16736872, Score: 94.43, Text: \"Optical imaging of the dynamics of living specimens involves tradeoffs between spatial resolution, temporal resolution, and phototoxicity, made more difficult in three dimensions. Here, however, we report that rapid three-dimensional (3D) dynamics can be studied beyond the diffraction limit in thick or densely fluorescent living specimens over many time points by combining ultrathin planar illumination produced by scanned Bessel beams with super-resolution structured illumination microscopy. We demonstrate in vivo karyotyping of chromosomes during mitosis and identify different dynamics for the actin cytoskeleton at the dorsal and ventral surfaces of fibroblasts. Compared to spinning disk confocal microscopy, we demonstrate substantially reduced photodamage when imaging rapid morphological changes in D. discoideum cells, as well as improved contrast and resolution at depth within developing C. elegans embryos. Bessel beam structured plane illumination thus promises new insights into complex biological phenomena that require 4D subcellular spatiotemporal detail in either a single or multicellular context.\"\n",
      "2. Document ID: 4346436, Score: 92.52, Text: \"Unlike most synthetic materials, biological materials often stiffen as they are deformed. This nonlinear elastic response, critical for the physiological function of some tissues, has been documented since at least the 19th century, but the molecular structure and the design principles responsible for it are unknown. Current models for this response require geometrically complex ordered structures unique to each material. In this Article we show that a much simpler molecular theory accounts for strain stiffening in a wide range of molecularly distinct biopolymer gels formed from purified cytoskeletal and extracellular proteins. This theory shows that systems of semi-flexible chains such as filamentous proteins arranged in an open crosslinked meshwork invariably stiffen at low strains without the need for a specific architecture or multiple elements with different intrinsic stiffnesses.\"\n",
      "3. Document ID: 39187170, Score: 91.91, Text: \"Adipose tissue exerts important endocrine and metabolic functions in health and disease. Yet the bioenergetics of this tissue is not characterized in humans and possible regional differences are not elucidated. Using high resolution respirometry, mitochondrial respiration was quantified in human abdominal subcutaneous and intra-abdominal visceral (omentum majus) adipose tissue from biopsies obtained in 20 obese patients undergoing bariatric surgery. Mitochondrial DNA (mtDNA) and genomic DNA (gDNA) were determined by the PCR technique for estimation of mitochondrial density. Adipose tissue samples were permeabilized and respirometric measurements were performed in duplicate at 37 degrees C. Substrates (glutamate (G) + malate (M) + octanoyl carnitine (O) + succinate (S)) were added sequentially to provide electrons to complex I + II. ADP ((D)) for state 3 respiration was added after GM. Uncoupled respiration was measured after addition of FCCP. Visceral fat contained more mitochondria per milligram of tissue than subcutaneous fat, but the cells were smaller. Robust, stable oxygen fluxes were found in both tissues, and coupled state 3 (GMOS(D)) and uncoupled respiration were significantly (P < 0.05) higher in visceral (0.95 +/- 0.05 and 1.15 +/- 0.06 pmol O(2) s(1) mg(1), respectively) compared with subcutaneous (0.76 +/- 0.04 and 0.98 +/- 0.05 pmol O(2) s(1) mg(1), respectively) adipose tissue. Expressed per mtDNA, visceral adipose tissue had significantly (P < 0.05) lower mitochondrial respiration. Substrate control ratios were higher and uncoupling control ratio lower (P < 0.05) in visceral compared with subcutaneous adipose tissue. We conclude that visceral fat is bioenergetically more active and more sensitive to mitochondrial substrate supply than subcutaneous fat. Oxidative phosphorylation has a higher relative activity in visceral compared with subcutaneous adipose tissue.\"\n"
     ]
    }
   ],
   "source": [
    "#### Display some queries from the dataset\n",
    "print(\"Sample queries from the dataset:\")\n",
    "for i, (query_id, query_text) in enumerate(queries.items()):\n",
    "    if i >= 5:  # Display only the first 5 queries\n",
    "        break\n",
    "    print(f\"{i+1}. {query_text}\")\n",
    "\n",
    "#### Display top-3 retrieved documents for a sample query\n",
    "sample_query = list(queries.values())[0]  # Use the first query from the dataset\n",
    "query_id = list(queries.keys())[list(queries.values()).index(sample_query)]\n",
    "top_k = 3\n",
    "top_results = sorted(results[query_id].items(), key=lambda item: item[1], reverse=True)[:top_k]\n",
    "\n",
    "print(f\"\\nQuery: \\\"{sample_query}\\\"\")\n",
    "print(\"Top-3 Retrieved Documents:\")\n",
    "for rank, (doc_id, score) in enumerate(top_results, start=1):\n",
    "    print(f\"{rank}. Document ID: {doc_id}, Score: {score:.2f}, Text: \\\"{corpus[doc_id]['text']}\\\"\")"
   ]
  },
  {
   "cell_type": "markdown",
   "metadata": {},
   "source": [
    "# Generation"
   ]
  },
  {
   "cell_type": "code",
   "execution_count": 6,
   "metadata": {},
   "outputs": [],
   "source": [
    "# Define the sample query and retrieved documents\n",
    "query = \"0-dimensional biomaterials show inductive properties.\"\n",
    "retrieved_docs = {\n",
    "    16736872: {\"score\": 94.43, \"text\": \"Optical imaging of the dynamics of living specimens involves tradeoffs between spatial resolution, temporal resolution, and phototoxicity, made more difficult in three dimensions. Here, however, we report that rapid three-dimensional (3D) dynamics can be studied beyond the diffraction limit in thick or densely fluorescent living specimens over many time points by combining ultrathin planar illumination produced by scanned Bessel beams with super-resolution structured illumination microscopy. We demonstrate in vivo karyotyping of chromosomes during mitosis and identify different dynamics for the actin cytoskeleton at the dorsal and ventral surfaces of fibroblasts. Compared to spinning disk confocal microscopy, we demonstrate substantially reduced photodamage when imaging rapid morphological changes in D. discoideum cells, as well as improved contrast and resolution at depth within developing C. elegans embryos. Bessel beam structured plane illumination thus promises new insights into complex biological phenomena that require 4D subcellular spatiotemporal detail in either a single or multicellular context.\"},\n",
    "    #4346436: {\"score\": 92.52, \"text\": \"Unlike most synthetic materials, biological materials often stiffen as they are deformed. This nonlinear elastic response, critical for the physiological function of some tissues, has been documented since at least the 19th century, but the molecular structure and the design principles responsible for it are unknown. Current models for this response require geometrically complex ordered structures unique to each material. In this Article we show that a much simpler molecular theory accounts for strain stiffening in a wide range of molecularly distinct biopolymer gels formed from purified cytoskeletal and extracellular proteins. This theory shows that systems of semi-flexible chains such as filamentous proteins arranged in an open crosslinked meshwork invariably stiffen at low strains without the need for a specific architecture or multiple elements with different intrinsic stiffnesses.\"},\n",
    "    #39187170: {\"score\": 91.91, \"text\": \"Adipose tissue exerts important endocrine and metabolic functions in health and disease. Yet the bioenergetics of this tissue is not characterized in humans and possible regional differences are not elucidated. Using high resolution respirometry, mitochondrial respiration was quantified in human abdominal subcutaneous and intra-abdominal visceral (omentum majus) adipose tissue from biopsies obtained in 20 obese patients undergoing bariatric surgery. Mitochondrial DNA (mtDNA) and genomic DNA (gDNA) were determined by the PCR technique for estimation of mitochondrial density. Adipose tissue samples were permeabilized and respirometric measurements were performed in duplicate at 37 degrees C. Substrates (glutamate (G) + malate (M) + octanoyl carnitine (O) + succinate (S)) were added sequentially to provide electrons to complex I + II. ADP ((D)) for state 3 respiration was added after GM. Uncoupled respiration was measured after addition of FCCP. Visceral fat contained more mitochondria per milligram of tissue than subcutaneous fat, but the cells were smaller. Robust, stable oxygen fluxes were found in both tissues, and coupled state 3 (GMOS(D)) and uncoupled respiration were significantly (P < 0.05) higher in visceral (0.95 +/- 0.05 and 1.15 +/- 0.06 pmol O(2) s(1) mg(1), respectively) compared with subcutaneous (0.76 +/- 0.04 and 0.98 +/- 0.05 pmol O(2) s(1) mg(1), respectively) adipose tissue. Expressed per mtDNA, visceral adipose tissue had significantly (P < 0.05) lower mitochondrial respiration. Substrate control ratios were higher and uncoupling control ratio lower (P < 0.05) in visceral compared with subcutaneous adipose tissue. We conclude that visceral fat is bioenergetically more active and more sensitive to mitochondrial substrate supply than subcutaneous fat. Oxidative phosphorylation has a higher relative activity in visceral compared with subcutaneous adipose tissue.\"}\n",
    "}"
   ]
  },
  {
   "cell_type": "code",
   "execution_count": 7,
   "metadata": {},
   "outputs": [
    {
     "name": "stdout",
     "output_type": "stream",
     "text": [
      "Input Text: context: Optical imaging of the dynamics of living specimens involves tradeoffs between spatial resolution, temporal resolution, and phototoxicity, made more difficult in three dimensions. Here, however, we report that rapid three-dimensional (3D) dynamics can be studied beyond the diffraction limit in thick or densely fluorescent living specimens over many time points by combining ultrathin planar illumination produced by scanned Bessel beams with super-resolution structured illumination microscopy. We demonstrate in vivo karyotyping of chromosomes during mitosis and identify different dynamics for the actin cytoskeleton at the dorsal and ventral surfaces of fibroblasts. Compared to spinning disk confocal microscopy, we demonstrate substantially reduced photodamage when imaging rapid morphological changes in D. discoideum cells, as well as improved contrast and resolution at depth within developing C. elegans embryos. Bessel beam structured plane illumination thus promises new insights into complex biological phenomena that require 4D subcellular spatiotemporal detail in either a single or multicellular context.. based on this, answer the question: 0-dimensional biomaterials show inductive properties.\n",
      "Generated Answer: not_duplicate\n"
     ]
    }
   ],
   "source": [
    "from transformers import AutoTokenizer, AutoModelForSeq2SeqLM\n",
    "\n",
    "# Load model generasi (T5 atau lainnya)\n",
    "model_name = \"t5-large\"\n",
    "tokenizer = AutoTokenizer.from_pretrained(model_name)\n",
    "model = AutoModelForSeq2SeqLM.from_pretrained(model_name)\n",
    "\n",
    "# Function to build dynamic input\n",
    "def create_input_from_retrieval(query, retrieved_docs, top_k=3):\n",
    "    # Get top-k documents based on score\n",
    "    top_docs = sorted(retrieved_docs.items(), key=lambda x: x[1][\"score\"], reverse=True)[:top_k]\n",
    "\n",
    "    # Combine query with document texts\n",
    "    context = \" \".join([doc[\"text\"] for _, doc in top_docs])\n",
    "    input_text = f\"context: {context}. based on this, answer the question: {query}\"\n",
    "    print(\"Input Text:\", input_text)\n",
    "    return input_text\n",
    "\n",
    "# # Example query and retrieved documents\n",
    "# query = \"What are the functions of adipose tissue?\"\n",
    "# retrieved_docs = {\n",
    "#     1: {\"text\": \"Adipose tissue serves as a key energy reserve in the human body.\", \"score\": 0.9},\n",
    "#     2: {\"text\": \"It plays a crucial role in metabolic regulation and hormone secretion.\", \"score\": 0.85},\n",
    "#     3: {\"text\": \"Subcutaneous and visceral adipose tissues have different physiological roles.\", \"score\": 0.8},\n",
    "# }\n",
    "\n",
    "# Build input for generation model\n",
    "input_text = create_input_from_retrieval(query, retrieved_docs)\n",
    "\n",
    "# Tokenize input\n",
    "inputs = tokenizer(input_text, return_tensors=\"pt\", max_length=512, truncation=True)\n",
    "\n",
    "# Generate output with repetition_penalty\n",
    "output_ids = model.generate(\n",
    "    inputs.input_ids,\n",
    "    max_length=50,\n",
    "    num_beams=5,\n",
    "    early_stopping=True,\n",
    "    repetition_penalty=2.0  # Adjust penalty value as needed\n",
    ")\n",
    "\n",
    "# Decode output\n",
    "answer = tokenizer.decode(output_ids[0], skip_special_tokens=True)\n",
    "print(\"Generated Answer:\", answer)"
   ]
  }
 ],
 "metadata": {
  "kernelspec": {
   "display_name": "env",
   "language": "python",
   "name": "python3"
  },
  "language_info": {
   "codemirror_mode": {
    "name": "ipython",
    "version": 3
   },
   "file_extension": ".py",
   "mimetype": "text/x-python",
   "name": "python",
   "nbconvert_exporter": "python",
   "pygments_lexer": "ipython3",
   "version": "3.12.8"
  }
 },
 "nbformat": 4,
 "nbformat_minor": 2
}
