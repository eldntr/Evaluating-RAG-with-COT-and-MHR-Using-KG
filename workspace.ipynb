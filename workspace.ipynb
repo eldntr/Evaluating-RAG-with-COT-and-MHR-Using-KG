{
 "cells": [
  {
   "cell_type": "code",
   "execution_count": 4,
   "metadata": {},
   "outputs": [
    {
     "name": "stdout",
     "output_type": "stream",
     "text": [
      "2025-01-13 19:13:20 - Downloading scifact.zip ...\n"
     ]
    },
    {
     "name": "stderr",
     "output_type": "stream",
     "text": [
      "/home/debian/Documents/Final-Project-Avalon/datasets/scifact.zip: 100%|██████████| 2.69M/2.69M [00:16<00:00, 166kiB/s] \n"
     ]
    },
    {
     "name": "stdout",
     "output_type": "stream",
     "text": [
      "2025-01-13 19:13:38 - Unzipping scifact.zip ...\n",
      "2025-01-13 19:13:38 - Loading Corpus...\n"
     ]
    },
    {
     "name": "stderr",
     "output_type": "stream",
     "text": [
      "100%|██████████| 5183/5183 [00:00<00:00, 155302.42it/s]\n"
     ]
    },
    {
     "name": "stdout",
     "output_type": "stream",
     "text": [
      "2025-01-13 19:13:38 - Loaded 5183 TEST Documents.\n",
      "2025-01-13 19:13:38 - Doc Example: {'text': 'Alterations of the architecture of cerebral white matter in the developing human brain can affect cortical development and result in functional disabilities. A line scan diffusion-weighted magnetic resonance imaging (MRI) sequence with diffusion tensor analysis was applied to measure the apparent diffusion coefficient, to calculate relative anisotropy, and to delineate three-dimensional fiber architecture in cerebral white matter in preterm (n = 17) and full-term infants (n = 7). To assess effects of prematurity on cerebral white matter development, early gestation preterm infants (n = 10) were studied a second time at term. In the central white matter the mean apparent diffusion coefficient at 28 wk was high, 1.8 microm2/ms, and decreased toward term to 1.2 microm2/ms. In the posterior limb of the internal capsule, the mean apparent diffusion coefficients at both times were similar (1.2 versus 1.1 microm2/ms). Relative anisotropy was higher the closer birth was to term with greater absolute values in the internal capsule than in the central white matter. Preterm infants at term showed higher mean diffusion coefficients in the central white matter (1.4 +/- 0.24 versus 1.15 +/- 0.09 microm2/ms, p = 0.016) and lower relative anisotropy in both areas compared with full-term infants (white matter, 10.9 +/- 0.6 versus 22.9 +/- 3.0%, p = 0.001; internal capsule, 24.0 +/- 4.44 versus 33.1 +/- 0.6% p = 0.006). Nonmyelinated fibers in the corpus callosum were visible by diffusion tensor MRI as early as 28 wk; full-term and preterm infants at term showed marked differences in white matter fiber organization. The data indicate that quantitative assessment of water diffusion by diffusion tensor MRI provides insight into microstructural development in cerebral white matter in living infants.', 'title': 'Microstructural development of human newborn cerebral white matter assessed in vivo by diffusion tensor magnetic resonance imaging.'}\n",
      "2025-01-13 19:13:38 - Loading Queries...\n",
      "2025-01-13 19:13:38 - Loaded 300 TEST Queries.\n",
      "2025-01-13 19:13:38 - Query Example: 0-dimensional biomaterials show inductive properties.\n",
      "2025-01-13 19:13:38 - Use pytorch device_name: cpu\n",
      "2025-01-13 19:13:38 - Load pretrained SentenceTransformer: msmarco-distilbert-base-tas-b\n",
      "2025-01-13 19:14:13 - Encoding Queries...\n"
     ]
    },
    {
     "name": "stderr",
     "output_type": "stream",
     "text": [
      "Batches: 100%|██████████| 19/19 [00:02<00:00,  8.71it/s]\n"
     ]
    },
    {
     "name": "stdout",
     "output_type": "stream",
     "text": [
      "2025-01-13 19:14:15 - Sorting Corpus by document length (Longest first)...\n",
      "2025-01-13 19:14:15 - Encoding Corpus in batches... Warning: This might take a while!\n",
      "2025-01-13 19:14:15 - Scoring Function: Dot Product (dot)\n",
      "2025-01-13 19:14:15 - Encoding Batch 1/1...\n"
     ]
    },
    {
     "name": "stderr",
     "output_type": "stream",
     "text": [
      "Batches: 100%|██████████| 324/324 [07:46<00:00,  1.44s/it]\n"
     ]
    },
    {
     "name": "stdout",
     "output_type": "stream",
     "text": [
      "2025-01-13 19:22:02 - For evaluation, we ignore identical query and document ids (default), please explicitly set ``ignore_identical_ids=False`` to ignore this.\n",
      "2025-01-13 19:22:02 - \n",
      "\n",
      "2025-01-13 19:22:02 - NDCG@1: 0.5333\n",
      "2025-01-13 19:22:02 - NDCG@3: 0.5990\n",
      "2025-01-13 19:22:02 - NDCG@5: 0.6215\n",
      "2025-01-13 19:22:02 - NDCG@10: 0.6428\n",
      "2025-01-13 19:22:02 - NDCG@100: 0.6698\n",
      "2025-01-13 19:22:02 - NDCG@1000: 0.6811\n",
      "2025-01-13 19:22:02 - \n",
      "\n",
      "2025-01-13 19:22:02 - MAP@1: 0.5086\n",
      "2025-01-13 19:22:02 - MAP@3: 0.5730\n",
      "2025-01-13 19:22:02 - MAP@5: 0.5892\n",
      "2025-01-13 19:22:02 - MAP@10: 0.5992\n",
      "2025-01-13 19:22:02 - MAP@100: 0.6046\n",
      "2025-01-13 19:22:02 - MAP@1000: 0.6049\n",
      "2025-01-13 19:22:02 - \n",
      "\n",
      "2025-01-13 19:22:02 - Recall@1: 0.5086\n",
      "2025-01-13 19:22:02 - Recall@3: 0.6473\n",
      "2025-01-13 19:22:02 - Recall@5: 0.6998\n",
      "2025-01-13 19:22:02 - Recall@10: 0.7615\n",
      "2025-01-13 19:22:02 - Recall@100: 0.8910\n",
      "2025-01-13 19:22:02 - Recall@1000: 0.9833\n",
      "2025-01-13 19:22:02 - \n",
      "\n",
      "2025-01-13 19:22:02 - P@1: 0.5333\n",
      "2025-01-13 19:22:02 - P@3: 0.2322\n",
      "2025-01-13 19:22:02 - P@5: 0.1560\n",
      "2025-01-13 19:22:02 - P@10: 0.0863\n",
      "2025-01-13 19:22:02 - P@100: 0.0101\n",
      "2025-01-13 19:22:02 - P@1000: 0.0011\n"
     ]
    }
   ],
   "source": [
    "from beir import util, LoggingHandler\n",
    "from beir.retrieval import models\n",
    "from beir.datasets.data_loader import GenericDataLoader\n",
    "from beir.retrieval.evaluation import EvaluateRetrieval\n",
    "from beir.retrieval.search.dense import DenseRetrievalExactSearch as DRES\n",
    "\n",
    "import logging\n",
    "import pathlib, os\n",
    "\n",
    "#### Just some code to print debug information to stdout\n",
    "logging.basicConfig(format='%(asctime)s - %(message)s',\n",
    "                    datefmt='%Y-%m-%d %H:%M:%S',\n",
    "                    level=logging.INFO,\n",
    "                    handlers=[LoggingHandler()])\n",
    "#### /print debug information to stdout\n",
    "\n",
    "#### Download scifact.zip dataset and unzip the dataset\n",
    "dataset = \"scifact\"\n",
    "url = \"https://public.ukp.informatik.tu-darmstadt.de/thakur/BEIR/datasets/{}.zip\".format(dataset)\n",
    "out_dir = os.path.join(pathlib.Path().absolute(), \"datasets\")\n",
    "data_path = util.download_and_unzip(url, out_dir)\n",
    "\n",
    "#### Provide the data_path where scifact has been downloaded and unzipped\n",
    "corpus, queries, qrels = GenericDataLoader(data_folder=data_path).load(split=\"test\")\n",
    "\n",
    "#### Load the SBERT model and retrieve using cosine-similarity\n",
    "model = DRES(models.SentenceBERT(\"msmarco-distilbert-base-tas-b\"), batch_size=16)\n",
    "retriever = EvaluateRetrieval(model, score_function=\"dot\") # or \"cos_sim\" for cosine similarity\n",
    "results = retriever.retrieve(corpus, queries)\n",
    "\n",
    "#### Evaluate your model with NDCG@k, MAP@K, Recall@K and Precision@K  where k = [1,3,5,10,100,1000] \n",
    "ndcg, _map, recall, precision = retriever.evaluate(qrels, results, retriever.k_values)"
   ]
  }
 ],
 "metadata": {
  "kernelspec": {
   "display_name": "env",
   "language": "python",
   "name": "python3"
  },
  "language_info": {
   "codemirror_mode": {
    "name": "ipython",
    "version": 3
   },
   "file_extension": ".py",
   "mimetype": "text/x-python",
   "name": "python",
   "nbconvert_exporter": "python",
   "pygments_lexer": "ipython3",
   "version": "3.10.0"
  }
 },
 "nbformat": 4,
 "nbformat_minor": 2
}
